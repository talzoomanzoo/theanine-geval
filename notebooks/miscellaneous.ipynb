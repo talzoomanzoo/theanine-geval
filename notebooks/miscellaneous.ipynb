{
 "cells": [
  {
   "cell_type": "code",
   "execution_count": 1,
   "metadata": {},
   "outputs": [
    {
     "name": "stdout",
     "output_type": "stream",
     "text": [
      "Row number: 59\n"
     ]
    }
   ],
   "source": [
    "import json\n",
    "with open('/home/intern/mjgwak/theanine/session_5/session_5/cc_theanine.json', 'r') as file:\n",
    "    data = json.load(file)\n",
    "    \n",
    "for index, item in enumerate(data):\n",
    "    if item.get(\"utter_id\") == \"e5-s5-t1\":\n",
    "        print(f\"Row number: {index}\")\n",
    "        break"
   ]
  },
  {
   "cell_type": "code",
   "execution_count": null,
   "metadata": {},
   "outputs": [],
   "source": []
  }
 ],
 "metadata": {
  "kernelspec": {
   "display_name": "intern-mj",
   "language": "python",
   "name": "python3"
  },
  "language_info": {
   "codemirror_mode": {
    "name": "ipython",
    "version": 3
   },
   "file_extension": ".py",
   "mimetype": "text/x-python",
   "name": "python",
   "nbconvert_exporter": "python",
   "pygments_lexer": "ipython3",
   "version": "3.12.7"
  }
 },
 "nbformat": 4,
 "nbformat_minor": 2
}
