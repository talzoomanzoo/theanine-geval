{
 "cells": [
  {
   "cell_type": "code",
   "execution_count": 4,
   "metadata": {},
   "outputs": [
    {
     "name": "stdout",
     "output_type": "stream",
     "text": [
      "The number of sequences in the list is: 594\n"
     ]
    }
   ],
   "source": [
    "#cc_theanine\n",
    "import json\n",
    "\n",
    "# Load the JSON data from the file\n",
    "with open('/home/intern/mjgwak/theanine/session_5/session_5/cc_theanine.json', 'r') as file:\n",
    "    data = json.load(file)\n",
    "\n",
    "# Calculate the number of sequences\n",
    "num_sequences = len(data)\n",
    "\n",
    "# Output the result\n",
    "print(f'The number of sequences in the list is: {num_sequences}')"
   ]
  },
  {
   "cell_type": "code",
   "execution_count": 1,
   "metadata": {},
   "outputs": [
    {
     "name": "stdout",
     "output_type": "stream",
     "text": [
      "The number of sequences in the list is: 541\n"
     ]
    }
   ],
   "source": [
    "#msc_theanine\n",
    "import json\n",
    "\n",
    "# Load the JSON data from the file\n",
    "with open('/home/intern/mjgwak/theanine/session_5/session_5/msc_theanine.json', 'r') as file:\n",
    "    data = json.load(file)\n",
    "\n",
    "# Calculate the number of sequences\n",
    "num_sequences = len(data)\n",
    "\n",
    "# Output the result\n",
    "print(f'The number of sequences in the list is: {num_sequences}')"
   ]
  },
  {
   "cell_type": "code",
   "execution_count": 11,
   "metadata": {},
   "outputs": [
    {
     "name": "stdout",
     "output_type": "stream",
     "text": [
      "The number of sequences in the list is: 594\n"
     ]
    }
   ],
   "source": [
    "#cc_ret_update\n",
    "import json\n",
    "\n",
    "# Load the JSON data from the file\n",
    "with open('/home/intern/mjgwak/theanine/session_5/session_5/cc_ret_update_transform.json', 'r') as file:\n",
    "    data = json.load(file)\n",
    "\n",
    "# Calculate the number of sequences\n",
    "num_sequences = len(data)\n",
    "\n",
    "# Output the result\n",
    "print(f'The number of sequences in the list is: {num_sequences}')"
   ]
  },
  {
   "cell_type": "code",
   "execution_count": 12,
   "metadata": {},
   "outputs": [
    {
     "name": "stdout",
     "output_type": "stream",
     "text": [
      "The number of sequences in the list is: 541\n"
     ]
    }
   ],
   "source": [
    "#msc_ret_update\n",
    "import json\n",
    "\n",
    "# Load the JSON data from the file\n",
    "with open('/home/intern/mjgwak/theanine/session_5/session_5/msc_ret_update_transform.json', 'r') as file:\n",
    "    data = json.load(file)\n",
    "\n",
    "# Calculate the number of sequences\n",
    "num_sequences = len(data)\n",
    "\n",
    "# Output the result\n",
    "print(f'The number of sequences in the list is: {num_sequences}')"
   ]
  },
  {
   "cell_type": "code",
   "execution_count": 5,
   "metadata": {},
   "outputs": [
    {
     "name": "stdout",
     "output_type": "stream",
     "text": [
      "The number of sequences in the list is: 594\n"
     ]
    }
   ],
   "source": [
    "#cc_ret_summary\n",
    "import json\n",
    "\n",
    "# Load the JSON data from the file\n",
    "with open('/home/intern/mjgwak/theanine/session_5/session_5/cc_ret_summary_transform.json', 'r') as file:\n",
    "    data = json.load(file)\n",
    "\n",
    "# Calculate the number of sequences\n",
    "num_sequences = len(data)\n",
    "\n",
    "# Output the result\n",
    "print(f'The number of sequences in the list is: {num_sequences}')"
   ]
  },
  {
   "cell_type": "code",
   "execution_count": 6,
   "metadata": {},
   "outputs": [
    {
     "name": "stdout",
     "output_type": "stream",
     "text": [
      "The number of sequences in the list is: 541\n"
     ]
    }
   ],
   "source": [
    "#msc_ret_summary\n",
    "import json\n",
    "\n",
    "# Load the JSON data from the file\n",
    "with open('/home/intern/mjgwak/theanine/session_5/session_5/msc_ret_summary_transform.json', 'r') as file:\n",
    "    data = json.load(file)\n",
    "\n",
    "# Calculate the number of sequences\n",
    "num_sequences = len(data)\n",
    "\n",
    "# Output the result\n",
    "print(f'The number of sequences in the list is: {num_sequences}')"
   ]
  },
  {
   "cell_type": "code",
   "execution_count": 7,
   "metadata": {},
   "outputs": [
    {
     "name": "stdout",
     "output_type": "stream",
     "text": [
      "The number of sequences in the list is: 594\n"
     ]
    }
   ],
   "source": [
    "#cc_comedy\n",
    "import json\n",
    "\n",
    "# Load the JSON data from the file\n",
    "with open('/home/intern/mjgwak/theanine/session_5/session_5/cc_comedy_transform.json', 'r') as file:\n",
    "    data = json.load(file)\n",
    "\n",
    "# Calculate the number of sequences\n",
    "num_sequences = len(data)\n",
    "\n",
    "# Output the result\n",
    "print(f'The number of sequences in the list is: {num_sequences}')"
   ]
  },
  {
   "cell_type": "code",
   "execution_count": 8,
   "metadata": {},
   "outputs": [
    {
     "name": "stdout",
     "output_type": "stream",
     "text": [
      "The number of sequences in the list is: 541\n"
     ]
    }
   ],
   "source": [
    "#msc_comedy\n",
    "import json\n",
    "\n",
    "# Load the JSON data from the file\n",
    "with open('/home/intern/mjgwak/theanine/session_5/session_5/msc_comedy_transform.json', 'r') as file:\n",
    "    data = json.load(file)\n",
    "\n",
    "# Calculate the number of sequences\n",
    "num_sequences = len(data)\n",
    "\n",
    "# Output the result\n",
    "print(f'The number of sequences in the list is: {num_sequences}')"
   ]
  },
  {
   "cell_type": "code",
   "execution_count": 9,
   "metadata": {},
   "outputs": [
    {
     "name": "stdout",
     "output_type": "stream",
     "text": [
      "The number of sequences in the list is: 594\n"
     ]
    }
   ],
   "source": [
    "#cc_memochat\n",
    "import json\n",
    "\n",
    "# Load the JSON data from the file\n",
    "with open('/home/intern/mjgwak/theanine/session_5/session_5/cc_memochat_transform.json', 'r') as file:\n",
    "    data = json.load(file)\n",
    "\n",
    "# Calculate the number of sequences\n",
    "num_sequences = len(data)\n",
    "\n",
    "# Output the result\n",
    "print(f'The number of sequences in the list is: {num_sequences}')"
   ]
  },
  {
   "cell_type": "code",
   "execution_count": 10,
   "metadata": {},
   "outputs": [
    {
     "name": "stdout",
     "output_type": "stream",
     "text": [
      "The number of sequences in the list is: 541\n"
     ]
    }
   ],
   "source": [
    "#msc_memochat\n",
    "import json\n",
    "\n",
    "# Load the JSON data from the file\n",
    "with open('/home/intern/mjgwak/theanine/session_5/session_5/msc_memochat_transform.json', 'r') as file:\n",
    "    data = json.load(file)\n",
    "\n",
    "# Calculate the number of sequences\n",
    "num_sequences = len(data)\n",
    "\n",
    "# Output the result\n",
    "print(f'The number of sequences in the list is: {num_sequences}')"
   ]
  },
  {
   "cell_type": "code",
   "execution_count": 1,
   "metadata": {},
   "outputs": [
    {
     "name": "stdout",
     "output_type": "stream",
     "text": [
      "The number of sequences in the list is: 200\n"
     ]
    }
   ],
   "source": [
    "#cc_summary\n",
    "import json\n",
    "\n",
    "# Load the JSON data from the file\n",
    "with open('/home/intern/mjgwak/theanine/memory_file/cc_summary.json', 'r') as file:\n",
    "    data = json.load(file)\n",
    "\n",
    "# Calculate the number of sequences\n",
    "num_sequences = len(data)\n",
    "\n",
    "# Output the result\n",
    "print(f'The number of sequences in the list is: {num_sequences}')"
   ]
  },
  {
   "cell_type": "code",
   "execution_count": 2,
   "metadata": {},
   "outputs": [
    {
     "name": "stdout",
     "output_type": "stream",
     "text": [
      "The number of sequences in the list is: 200\n"
     ]
    }
   ],
   "source": [
    "#msc_summary\n",
    "import json\n",
    "\n",
    "# Load the JSON data from the file\n",
    "with open('/home/intern/mjgwak/theanine/memory_file/msc_summary.json', 'r') as file:\n",
    "    data = json.load(file)\n",
    "\n",
    "# Calculate the number of sequences\n",
    "num_sequences = len(data)\n",
    "\n",
    "# Output the result\n",
    "print(f'The number of sequences in the list is: {num_sequences}')"
   ]
  },
  {
   "cell_type": "code",
   "execution_count": 3,
   "metadata": {},
   "outputs": [
    {
     "name": "stdout",
     "output_type": "stream",
     "text": [
      "The number of sequences in the list is: 50\n"
     ]
    }
   ],
   "source": [
    "#cc_memory_file\n",
    "import json\n",
    "\n",
    "# Load the JSON data from the file\n",
    "with open('/home/intern/mjgwak/theanine/memory_file/cc_memory_file.json', 'r') as file:\n",
    "    data = json.load(file)\n",
    "\n",
    "# Calculate the number of sequences\n",
    "num_sequences = len(data)\n",
    "\n",
    "# Output the result\n",
    "print(f'The number of sequences in the list is: {num_sequences}')"
   ]
  },
  {
   "cell_type": "code",
   "execution_count": 4,
   "metadata": {},
   "outputs": [
    {
     "name": "stdout",
     "output_type": "stream",
     "text": [
      "The number of sequences in the list is: 50\n"
     ]
    }
   ],
   "source": [
    "#cc_memory_file\n",
    "import json\n",
    "\n",
    "# Load the JSON data from the file\n",
    "with open('/home/intern/mjgwak/theanine/memory_file/msc_memory_file.json', 'r') as file:\n",
    "    data = json.load(file)\n",
    "\n",
    "# Calculate the number of sequences\n",
    "num_sequences = len(data)\n",
    "\n",
    "# Output the result\n",
    "print(f'The number of sequences in the list is: {num_sequences}')"
   ]
  },
  {
   "cell_type": "code",
   "execution_count": null,
   "metadata": {},
   "outputs": [],
   "source": []
  }
 ],
 "metadata": {
  "kernelspec": {
   "display_name": "webarena_mjgwak",
   "language": "python",
   "name": "python3"
  },
  "language_info": {
   "codemirror_mode": {
    "name": "ipython",
    "version": 3
   },
   "file_extension": ".py",
   "mimetype": "text/x-python",
   "name": "python",
   "nbconvert_exporter": "python",
   "pygments_lexer": "ipython3",
   "version": "3.12.7"
  }
 },
 "nbformat": 4,
 "nbformat_minor": 2
}
